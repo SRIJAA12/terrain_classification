{
  "cells": [
    {
      "cell_type": "markdown",
      "metadata": {
        "id": "view-in-github",
        "colab_type": "text"
      },
      "source": [
        "<a href=\"https://colab.research.google.com/github/SRIJAA12/terrain_classification/blob/main/terrain_classifier_model.ipynb\" target=\"_parent\"><img src=\"https://colab.research.google.com/assets/colab-badge.svg\" alt=\"Open In Colab\"/></a>"
      ]
    },
    {
      "cell_type": "code",
      "execution_count": null,
      "metadata": {
        "id": "dW8Sg4Kly2Hd"
      },
      "outputs": [],
      "source": [
        "!pip install -q tensorflow matplotlib scikit-learn tensorflow-datasets\n",
        "\n",
        "# --- IMPORTS ---\n",
        "import tensorflow as tf\n",
        "import matplotlib.pyplot as plt\n",
        "import numpy as np\n",
        "import os\n",
        "import random\n",
        "from collections import Counter\n",
        "from tensorflow.keras import layers, models\n",
        "from tensorflow.keras.applications import MobileNetV2\n",
        "from tensorflow.keras.callbacks import EarlyStopping, ModelCheckpoint\n",
        "import tensorflow_datasets as tfds"
      ]
    },
    {
      "cell_type": "code",
      "execution_count": null,
      "metadata": {
        "colab": {
          "background_save": true
        },
        "id": "B0WYBo-vzb2E"
      },
      "outputs": [],
      "source": [
        "# Load EuroSAT RGB dataset\n",
        "dataset, info = tfds.load(\"eurosat/rgb\", with_info=True, as_supervised=True,\n",
        "                          split=[\"train[:80%]\", \"train[80%:]\"])\n",
        "\n",
        "train_ds, val_ds = dataset\n",
        "class_names = info.features[\"label\"].names\n",
        "NUM_CLASSES = info.features[\"label\"].num_classes\n",
        "\n",
        "print(\"✅ Dataset Loaded!\")\n",
        "print(\"📊 Number of Classes:\", NUM_CLASSES)\n",
        "print(\"🏷️ Class Names:\", class_names)\n"
      ]
    },
    {
      "cell_type": "code",
      "execution_count": null,
      "metadata": {
        "id": "5nn6hvDO1bfu"
      },
      "outputs": [],
      "source": [
        "# Constants\n",
        "IMG_SIZE = 128\n",
        "BATCH_SIZE = 32\n",
        "AUTOTUNE = tf.data.AUTOTUNE\n",
        "\n",
        "# Preprocessing: resize + normalize\n",
        "def preprocess(image, label):\n",
        "    image = tf.image.resize(image, (IMG_SIZE, IMG_SIZE))\n",
        "    image = image / 255.0\n",
        "    return image, label\n",
        "\n",
        "# Data augmentation block\n",
        "data_augmentation = tf.keras.Sequential([\n",
        "    layers.RandomFlip(\"horizontal\"),\n",
        "    layers.RandomRotation(0.1),\n",
        "    layers.RandomZoom(0.2),\n",
        "    layers.RandomContrast(0.2),\n",
        "    layers.RandomBrightness(0.1)\n",
        "])\n"
      ]
    },
    {
      "cell_type": "code",
      "execution_count": null,
      "metadata": {
        "id": "SqzkzuKT1q9l"
      },
      "outputs": [],
      "source": [
        "# Apply preprocess and augmentations\n",
        "train_ds = train_ds.map(preprocess, num_parallel_calls=AUTOTUNE)\n",
        "val_ds = val_ds.map(preprocess, num_parallel_calls=AUTOTUNE)\n",
        "\n",
        "train_ds = train_ds.map(lambda x, y: (data_augmentation(x, training=True), y), num_parallel_calls=AUTOTUNE)\n",
        "\n",
        "# Batch and prefetch\n",
        "train_ds = train_ds.shuffle(1000).batch(BATCH_SIZE).prefetch(AUTOTUNE)\n",
        "val_ds = val_ds.batch(BATCH_SIZE).prefetch(AUTOTUNE)\n",
        "\n",
        "print(\"🛠️ Preprocessing & Augmentation done.\")\n"
      ]
    },
    {
      "cell_type": "code",
      "execution_count": null,
      "metadata": {
        "id": "4iH9c83-14l4"
      },
      "outputs": [],
      "source": [
        "# Load MobileNetV2 base\n",
        "base_model = MobileNetV2(input_shape=(IMG_SIZE, IMG_SIZE, 3),\n",
        "                         include_top=False,\n",
        "                         weights='imagenet')\n",
        "base_model.trainable = True  # Fine-tune enabled\n",
        "\n",
        "# Freeze early layers\n",
        "fine_tune_at = 100\n",
        "for layer in base_model.layers[:fine_tune_at]:\n",
        "    layer.trainable = False\n",
        "\n",
        "# Final model\n",
        "model = models.Sequential([\n",
        "    base_model,\n",
        "    layers.GlobalAveragePooling2D(),\n",
        "    layers.Dense(128, activation='relu'),\n",
        "    layers.Dropout(0.3),\n",
        "    layers.Dense(NUM_CLASSES, activation='softmax')\n",
        "])\n",
        "\n",
        "# Compile\n",
        "model.compile(optimizer=tf.keras.optimizers.Adam(1e-5),\n",
        "              loss='sparse_categorical_crossentropy',\n",
        "              metrics=['accuracy'])\n",
        "\n",
        "model.summary()\n"
      ]
    },
    {
      "cell_type": "code",
      "execution_count": null,
      "metadata": {
        "id": "ALfIv8orC0IH"
      },
      "outputs": [],
      "source": [
        "# Optional: Class weights to handle imbalance\n",
        "label_list = [label.numpy() for _, label in train_ds.unbatch()]\n",
        "class_counts = Counter(label_list)\n",
        "total = sum(class_counts.values())\n",
        "class_weights = {i: total / (len(class_counts) * class_counts[i]) for i in class_counts}\n"
      ]
    },
    {
      "cell_type": "code",
      "execution_count": null,
      "metadata": {
        "id": "uvTVl4HZDHZb"
      },
      "outputs": [],
      "source": [
        "from tensorflow.keras.callbacks import EarlyStopping, ModelCheckpoint\n",
        "\n",
        "# Define callbacks\n",
        "callbacks = [\n",
        "    EarlyStopping(monitor='val_loss', patience=5, restore_best_weights=True),\n",
        "    ModelCheckpoint('best_terrain_model.keras', save_best_only=True)\n",
        "]\n",
        "\n",
        "# Train the model\n",
        "history = model.fit(\n",
        "    train_ds,\n",
        "    validation_data=val_ds,\n",
        "    epochs=20,\n",
        "    callbacks=callbacks,\n",
        "    class_weight=class_weights  # only if using class weighting\n",
        ")\n",
        "\n",
        "\n",
        "print(\"🎉 Training Complete and model saved to Drive!\")\n"
      ]
    },
    {
      "cell_type": "code",
      "execution_count": null,
      "metadata": {
        "id": "xwC6b1saDSPu"
      },
      "outputs": [],
      "source": [
        "# Run predictions\n",
        "val_images, val_labels = next(iter(val_ds.unbatch().batch(16)))\n",
        "pred_probs = model.predict(val_images)\n",
        "pred_labels = tf.argmax(pred_probs, axis=1)\n"
      ]
    },
    {
      "cell_type": "code",
      "execution_count": null,
      "metadata": {
        "id": "EQlLpm0cEffj"
      },
      "outputs": [],
      "source": [
        "# Plot predictions vs actual\n",
        "plt.figure(figsize=(12, 8))\n",
        "for i in range(16):\n",
        "    plt.subplot(4, 4, i+1)\n",
        "    img = val_images[i]\n",
        "    true = class_names[val_labels[i].numpy()]\n",
        "    pred = class_names[pred_labels[i].numpy()]\n",
        "    color = \"green\" if true == pred else \"red\"\n",
        "    plt.imshow(img)\n",
        "    plt.title(f\"P: {pred}\\nT: {true}\", color=color, fontsize=9)\n",
        "    plt.axis(\"off\")\n",
        "plt.tight_layout()\n",
        "plt.show()\n"
      ]
    },
    {
      "cell_type": "code",
      "execution_count": null,
      "metadata": {
        "id": "o_VR_24BE0z5"
      },
      "outputs": [],
      "source": [
        "# Smart messages per class\n",
        "terrain_messages = {\n",
        "    \"AnnualCrop\": \"Crop field detected. Maintain medium altitude.\",\n",
        "    \"Forest\": \"Stable zone. Expect calm wind.\",\n",
        "    \"HerbaceousVegetation\": \"Open vegetation. Suitable for scanning.\",\n",
        "    \"Highway\": \"Road detected. Maintain height and avoid vehicles.\",\n",
        "    \"Industrial\": \"Caution: Obstructions likely. Maintain max altitude.\",\n",
        "    \"Pasture\": \"Livestock zone. Maintain safe distance.\",\n",
        "    \"PermanentCrop\": \"Orchard zone. Monitor tree height.\",\n",
        "    \"Residential\": \"Urban zone. Avoid low flyovers.\",\n",
        "    \"River\": \"Water detected. Be cautious of reflections.\",\n",
        "    \"SeaLake\": \"Large water body. Ensure GPS lock.\"\n",
        "}\n"
      ]
    },
    {
      "cell_type": "code",
      "execution_count": null,
      "metadata": {
        "id": "abon4oc7ohX2"
      },
      "outputs": [],
      "source": [
        "# Visualize predictions with messages\n",
        "plt.figure(figsize=(14, 10))\n",
        "for i in range(16):\n",
        "    plt.subplot(4, 4, i+1)\n",
        "    img = val_images[i]\n",
        "    pred_idx = pred_labels[i].numpy()\n",
        "    true_idx = val_labels[i].numpy()\n",
        "    pred_class = class_names[pred_idx]\n",
        "    true_class = class_names[true_idx]\n",
        "    message = terrain_messages[pred_class]\n",
        "    color = \"green\" if pred_class == true_class else \"red\"\n",
        "    plt.imshow(img)\n",
        "    plt.title(f\"{pred_class}\\n{message}\", fontsize=7, color=color)\n",
        "    plt.axis(\"off\")\n",
        "plt.tight_layout()\n",
        "plt.show()\n"
      ]
    },
    {
      "cell_type": "code",
      "execution_count": null,
      "metadata": {
        "id": "6TfW6ZrXwbDI"
      },
      "outputs": [],
      "source": [
        "from google.colab import drive\n",
        "drive.mount('/content/drive')\n"
      ]
    },
    {
      "cell_type": "code",
      "execution_count": null,
      "metadata": {
        "id": "7yoYJBdzePfg"
      },
      "outputs": [],
      "source": [
        "model.save(\"/content/drive/MyDrive/best_terrain_model.keras\")\n"
      ]
    },
    {
      "cell_type": "code",
      "execution_count": null,
      "metadata": {
        "id": "4w3XJ2aMeSkO"
      },
      "outputs": [],
      "source": [
        "import zipfile\n",
        "\n",
        "# Path to your model\n",
        "model_path = \"/content/drive/MyDrive/best_terrain_model.keras\"\n",
        "zip_path = \"/content/drive/MyDrive/best_terrain_model.zip\"\n",
        "\n",
        "# Zip it\n",
        "with zipfile.ZipFile(zip_path, 'w') as zipf:\n",
        "    zipf.write(model_path, arcname=\"best_terrain_model.keras\")\n",
        "\n",
        "print(\"Model zipped successfully at:\", zip_path)\n",
        "\n"
      ]
    }
  ],
  "metadata": {
    "colab": {
      "provenance": [],
      "mount_file_id": "1QwuZkG72VI7jmNGwhL6k8LrT9Cnd3kmJ",
      "authorship_tag": "ABX9TyOjXvZ0dxiLOWFCx9upLfgs",
      "include_colab_link": true
    },
    "kernelspec": {
      "display_name": "Python 3",
      "name": "python3"
    },
    "language_info": {
      "name": "python"
    }
  },
  "nbformat": 4,
  "nbformat_minor": 0
}